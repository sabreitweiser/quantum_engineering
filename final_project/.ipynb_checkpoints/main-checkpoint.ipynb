{
 "cells": [
  {
   "cell_type": "markdown",
   "metadata": {},
   "source": [
    "## Imports"
   ]
  },
  {
   "cell_type": "code",
   "execution_count": 71,
   "metadata": {},
   "outputs": [],
   "source": [
    "from qiskit import QuantumCircuit, ClassicalRegister, QuantumRegister\n",
    "import sys, os\n",
    "\n",
    "# useful additional packages \n",
    "import matplotlib.pyplot as plt\n",
    "%matplotlib inline\n",
    "import numpy as np\n",
    "import numpy.random as npr\n",
    "from numpy import pi\n",
    "from scipy import linalg as la\n",
    "from scipy import optimize\n",
    "from functools import partial\n",
    "\n",
    "# importing the QISKit\n",
    "from qiskit import QuantumProgram\n",
    "import Qconfig\n",
    "\n",
    "# import basic plot tools\n",
    "from qiskit.tools.visualization import plot_histogram\n",
    "\n",
    "\n",
    "# import optimization tools\n",
    "from qiskit.tools.apps.optimization import SPSA_optimization, SPSA_calibration\n",
    "from qiskit.tools.apps.optimization import make_Hamiltonian\n",
    "from qiskit.tools.apps.optimization import eval_hamiltonian, group_paulis\n",
    "\n",
    "# Ignore warnings due to chopping of small imaginary part of the energy \n",
    "import warnings\n",
    "warnings.filterwarnings('ignore')\n",
    "\n",
    "from qiskit.tools.qi.pauli import Pauli"
   ]
  },
  {
   "cell_type": "markdown",
   "metadata": {},
   "source": [
    "## Global Constants"
   ]
  },
  {
   "cell_type": "code",
   "execution_count": 72,
   "metadata": {},
   "outputs": [],
   "source": [
    "#Backend to run on\n",
    "device='local_qasm_simulator'\n",
    "\n",
    "#Number of optimization steps\n",
    "max_steps = 100"
   ]
  },
  {
   "cell_type": "markdown",
   "metadata": {},
   "source": [
    "## Helper Functions"
   ]
  },
  {
   "cell_type": "code",
   "execution_count": 73,
   "metadata": {},
   "outputs": [],
   "source": [
    "def xy_to_idx(size, x, y):\n",
    "    return (x%size[0])*size[1] + (y%size[1])\n",
    "\n",
    "def spin_wave_circuit(size, theta):\n",
    "    #Creates a circuit which initializes a 2D spin wave, of size 'size' and rate of change 'theta'\n",
    "    N = size[0]*size[1] #Number of spins\n",
    "    q = QuantumRegister(\"q\", N)\n",
    "    c = ClassicalRegister(\"c\", N)\n",
    "    circuit = QuantumCircuit(q, c)\n",
    "    for i in range(size[0]):\n",
    "        for j in range(size[1]):\n",
    "            phase = theta[0] + theta[1]*(i+j)\n",
    "            idx = xy_to_idx(size, i, j)\n",
    "            circuit.ry(phase, q[idx])\n",
    "            if len(theta) > 2: #Only do phi rotations if the initial guess includes them\n",
    "                phi = theta[2] + theta[3]*(i+j)\n",
    "                circuit.rz(phi, q[idx])\n",
    "    return circuit\n",
    "\n",
    "def ising_hamiltonian(size, h, J, D):\n",
    "    N = size[0]*size[1] #Number of spins\n",
    "    pauli_list = []\n",
    "    zeros = np.zeros(N)\n",
    "    \n",
    "    #External field\n",
    "    for i in range(size[0]):\n",
    "        for j in range(size[1]):\n",
    "            idx = xy_to_idx(size, i, j)\n",
    "            mask = np.copy(zeros)\n",
    "            mask[idx] = 1\n",
    "            \n",
    "            #Adding in X terms\n",
    "            pauli = Pauli(zeros, mask)\n",
    "            pauli_list.append([-h[0], pauli])\n",
    "            \n",
    "            #Adding in Y terms\n",
    "            pauli = Pauli(mask, mask)\n",
    "            pauli_list.append([-h[1], pauli])\n",
    "            \n",
    "            #Adding in Z terms\n",
    "            pauli = Pauli(mask, zeros)\n",
    "            pauli_list.append([-h[2], pauli])\n",
    "            \n",
    "            \n",
    "    for i in range(size[0]):\n",
    "        for j in range(size[1]):\n",
    "            #X-neighbors\n",
    "            idx1 = xy_to_idx(size, i, j)\n",
    "            idx2 = xy_to_idx(size, i+1, j)\n",
    "            mask = np.copy(zeros)\n",
    "            mask[idx1] = 1\n",
    "            mask[idx2] = 1\n",
    "            \n",
    "            #Adding in X terms\n",
    "            pauli = Pauli(zeros, mask)\n",
    "            pauli_list.append([-J[0], pauli])\n",
    "            \n",
    "            #Adding in Y terms\n",
    "            pauli = Pauli(mask, mask)\n",
    "            pauli_list.append([-J[1], pauli])\n",
    "            \n",
    "            #Adding in Z terms\n",
    "            pauli = Pauli(mask, zeros)\n",
    "            pauli_list.append([-J[2], pauli])\n",
    "            \n",
    "            #Y-neighbors\n",
    "            idx2 = xy_to_idx(size, i, j+1)\n",
    "            mask = np.copy(zeros)\n",
    "            mask[idx1] = 1\n",
    "            mask[idx2] = 1\n",
    "            \n",
    "            #Adding in X terms\n",
    "            pauli = Pauli(zeros, mask)\n",
    "            pauli_list.append([-J[0], pauli])\n",
    "            \n",
    "            #Adding in Y terms\n",
    "            pauli = Pauli(mask, mask)\n",
    "            pauli_list.append([-J[1], pauli])\n",
    "            \n",
    "            #Adding in Z terms\n",
    "            pauli = Pauli(mask, zeros)\n",
    "            pauli_list.append([-J[2], pauli])\n",
    "            \n",
    "            #D+ neighbors\n",
    "            idx2 = xy_to_idx(size, i+1, j+1)\n",
    "            mask = np.copy(zeros)\n",
    "            mask[idx1] = 1\n",
    "            mask[idx2] = 1\n",
    "            \n",
    "            #Adding in X terms\n",
    "            pauli = Pauli(zeros, mask)\n",
    "            pauli_list.append([-D[0], pauli])\n",
    "            \n",
    "            #Adding in Y terms\n",
    "            pauli = Pauli(mask, mask)\n",
    "            pauli_list.append([-D[1], pauli])\n",
    "            \n",
    "            #Adding in Z terms\n",
    "            pauli = Pauli(mask, zeros)\n",
    "            pauli_list.append([-D[2], pauli])\n",
    "            \n",
    "            #D+ neighbors\n",
    "            idx2 = xy_to_idx(size, i+1, j-1)\n",
    "            mask = np.copy(zeros)\n",
    "            mask[idx1] = 1\n",
    "            mask[idx2] = 1\n",
    "            \n",
    "            #Adding in X terms\n",
    "            pauli = Pauli(zeros, mask)\n",
    "            pauli_list.append([-D[0], pauli])\n",
    "            \n",
    "            #Adding in Y terms\n",
    "            pauli = Pauli(mask, mask)\n",
    "            pauli_list.append([-D[1], pauli])\n",
    "            \n",
    "            #Adding in Z terms\n",
    "            pauli = Pauli(mask, zeros)\n",
    "            pauli_list.append([-D[2], pauli])\n",
    "    \n",
    "    #Filtering out zero terms\n",
    "    pauli_list = [pauli for pauli in pauli_list if pauli[0] != 0]\n",
    "    #for pauli in pauli_list:\n",
    "    #    print(pauli[0], pauli[1].to_label())\n",
    "    return pauli_list\n",
    "\n",
    "#Creating a cost function\n",
    "def cost_function(Q_program, size, H, theta):\n",
    "    shots = 100 #TODO: Should this ever change?\n",
    "    return eval_hamiltonian(Q_program, H, spin_wave_circuit(size, theta), shots, device).real\n",
    "\n",
    "def SPSA_optimize(size, H, theta_i):\n",
    "    #SPSA variables\n",
    "    initial_c = 0.01\n",
    "    target_update = 2*np.pi*0.1\n",
    "    save_step = 1000\n",
    "    max_trials = max_steps\n",
    "    \n",
    "    cost = partial(cost_function, Q_program, size, H)\n",
    "    SPSA_params = SPSA_calibration(cost, theta_i, initial_c, target_update, 5)\n",
    "    output = SPSA_optimization(cost, theta_i, SPSA_params, max_trials, save_step, 1)\n",
    "    return output\n",
    "\n",
    "def NM_optimize(size, H, theta_i):\n",
    "    options = {'disp' : True, 'maxiter': max_steps}\n",
    "    cost = partial(cost_function, Q_program, size, H)\n",
    "    res = optimize.minimize(cost, theta_i, method=\"Nelder-Mead\", options=options)\n",
    "    output = [res.fun, res.x]\n",
    "    return output\n",
    "\n",
    "def callbackF(Xi):\n",
    "    global Nfeval\n",
    "    print('{0:4d}   {1: 3.6f}   {2: 3.6f}   {3: 3.6f}   {4: 3.6f}'.format(Nfeval, Xi[0], Xi[1], Xi[2], rosen(Xi)))\n",
    "    Nfeval += 1\n",
    "\n",
    "def optim(size, H, theta_i):\n",
    "    return NM_optimize(size, H, theta_i)"
   ]
  },
  {
   "cell_type": "markdown",
   "metadata": {},
   "source": [
    "## Testing\n",
    "Let's start with the simplest case - J=0. Without another scale, we can set h = + 1."
   ]
  },
  {
   "cell_type": "code",
   "execution_count": 74,
   "metadata": {
    "scrolled": true
   },
   "outputs": [
    {
     "data": {
      "text/plain": [
       "Text(0,0.5,'Energy')"
      ]
     },
     "execution_count": 74,
     "metadata": {},
     "output_type": "execute_result"
    },
    {
     "data": {
      "image/png": "[encoded data removed]",
      "text/plain": [
       "<matplotlib.figure.Figure at 0x1524e2e828>"
      ]
     },
     "metadata": {},
     "output_type": "display_data"
    }
   ],
   "source": [
    "###### Creating a program\n",
    "Q_program = QuantumProgram()\n",
    "Q_program.set_api(Qconfig.APItoken,Qconfig.config[\"url\"])\n",
    "\n",
    "size = [6,1]\n",
    "h = [0,0,1]\n",
    "J = [0,0,0]\n",
    "D = [0,0,0]\n",
    "H = ising_hamiltonian(size, h, J, D)\n",
    "H = group_paulis(H)\n",
    "\n",
    "omegas = np.arange(0,2*pi,0.1)\n",
    "thetas = [(0, omega) for omega in omegas]\n",
    "energy = [cost_function(Q_program, size, H, theta) for theta in thetas]\n",
    "\n",
    "\n",
    "plt.plot(omegas, energy, label='Energy')\n",
    "plt.xlabel('$\\omega$')\n",
    "plt.ylabel('Energy')"
   ]
  },
  {
   "cell_type": "markdown",
   "metadata": {},
   "source": [
    "Similarly, can set J=1, h=0."
   ]
  },
  {
   "cell_type": "code",
   "execution_count": 78,
   "metadata": {},
   "outputs": [
    {
     "data": {
      "text/plain": [
       "Text(0,0.5,'Energy')"
      ]
     },
     "execution_count": 78,
     "metadata": {},
     "output_type": "execute_result"
    },
    {
     "data": {
      "image/png": "[encoded data removed]",
      "text/plain": [
       "<matplotlib.figure.Figure at 0x1527802f98>"
      ]
     },
     "metadata": {},
     "output_type": "display_data"
    }
   ],
   "source": [
    "h = [0,0,0]\n",
    "J = [1,0,0]\n",
    "D = [0,0,0]\n",
    "H = ising_hamiltonian(size, h, J, D)\n",
    "H = group_paulis(H)\n",
    "\n",
    "omegas = np.arange(0,2*pi,0.1)\n",
    "thetas = [(pi/2, omega) for omega in omegas]\n",
    "energy = [cost_function(Q_program, size, H, theta) for theta in thetas]\n",
    "\n",
    "\n",
    "plt.plot(omegas, energy, label='Energy')\n",
    "plt.xlabel('$\\omega$')\n",
    "plt.ylabel('Energy')"
   ]
  },
  {
   "cell_type": "markdown",
   "metadata": {},
   "source": [
    "# GSE and Order Parameters"
   ]
  },
  {
   "cell_type": "code",
   "execution_count": 75,
   "metadata": {},
   "outputs": [
    {
     "name": "stdout",
     "output_type": "stream",
     "text": [
      "Warning: Maximum number of iterations has been exceeded.\n",
      "-20 [-80.92, array([3.07860238e+00, 5.69713899e-05])] -80.16068725130626\n",
      "Warning: Maximum number of iterations has been exceeded.\n",
      "-15 [-61.15999999999999, array([3.02586348e+00, 5.84487088e-05])] -60.2194144659614\n",
      "Warning: Maximum number of iterations has been exceeded.\n",
      "-10 [-40.92, array([3.10146330e+00, 5.91749551e-05])] -40.34554437777503\n",
      "Warning: Maximum number of iterations has been exceeded.\n",
      "-5 [-22.02, array([2.67501209e+00, 6.49075289e-05])] -20.801944387746584\n",
      "Optimization terminated successfully.\n",
      "         Current function value: -8.000000\n",
      "         Iterations: 22\n",
      "         Function evaluations: 65\n",
      "0 [-8.0, array([1.53813195e+00, 6.93699215e-05])] -8.000000000000002\n",
      "Warning: Maximum number of iterations has been exceeded.\n",
      "5 [-21.880000000000006, array([2.52068133e-01, 1.03879277e-04])] -20.801944387746587\n",
      "Warning: Maximum number of iterations has been exceeded.\n",
      "10 [-41.760000000000005, array([2.48791125e-01, 1.15615150e-04])] -40.345544377775056\n",
      "Warning: Maximum number of iterations has been exceeded.\n",
      "15 [-61.28, array([2.55302118e-01, 1.11821734e-04])] -60.21941446596132\n",
      "Warning: Maximum number of iterations has been exceeded.\n",
      "20 [-81.18, array([2.55329759e-01, 1.11819859e-04])] -80.16068725130606\n"
     ]
    }
   ],
   "source": [
    "#Creating a program\n",
    "Q_program = QuantumProgram()\n",
    "Q_program.set_api(Qconfig.APItoken,Qconfig.config[\"url\"])\n",
    "\n",
    "size = [4,1]\n",
    "J = [1,0,0]\n",
    "D = [0,0,0]\n",
    "energy = []\n",
    "theta = []\n",
    "exact = []\n",
    "gs = np.arange(-20,25,5)\n",
    "\n",
    "#Initial guess calculation\n",
    "#seeds = 10 #How many initial seeds to take\n",
    "#E_g = float('Inf')\n",
    "theta_g = (pi,0)\n",
    "\n",
    "#for seed in range(seeds):\n",
    "#    theta_i = npr.rand(2)*pi #We're only doing x/z terms, so no need for phi rotations\n",
    "#    results = optim(size, H, theta_i)\n",
    "#    if results[0] < E_g:\n",
    "#        E_g = results[0]\n",
    "#        theta_g = np.mod(results[1], 2*pi)\n",
    "    \n",
    "\n",
    "for g in gs:\n",
    "    h = [0,0,g]\n",
    "    H = ising_hamiltonian(size, h, J, D)\n",
    "    exact.append(np.amin(la.eig(make_Hamiltonian(H))[0]).real)\n",
    "    H = group_paulis(H)\n",
    "    res = optim(size, H, theta_g)\n",
    "    print(g, res, exact[-1])\n",
    "    energy.append(res[0])\n",
    "    theta.append(res[1])\n",
    "    theta_g = res[1]"
   ]
  },
  {
   "cell_type": "code",
   "execution_count": 76,
   "metadata": {},
   "outputs": [
    {
     "data": {
      "text/plain": [
       "Text(0,0.5,'Energy')"
      ]
     },
     "execution_count": 76,
     "metadata": {},
     "output_type": "execute_result"
    },
    {
     "data": {
      "image/png": "[encoded data removed]",
      "text/plain": [
       "<matplotlib.figure.Figure at 0x1527dd4978>"
      ]
     },
     "metadata": {},
     "output_type": "display_data"
    }
   ],
   "source": [
    "plt.plot(gs, exact, label='Exact Energy')\n",
    "plt.plot(gs, energy, label='Optimized Energy')\n",
    "plt.legend()\n",
    "plt.xlabel('g')\n",
    "plt.ylabel('Energy')"
   ]
  },
  {
   "cell_type": "code",
   "execution_count": 77,
   "metadata": {},
   "outputs": [
    {
     "data": {
      "text/plain": [
       "Text(0,0.5,'Parameter')"
      ]
     },
     "execution_count": 77,
     "metadata": {},
     "output_type": "execute_result"
    },
    {
     "data": {
      "image/png": "[encoded data removed]",
      "text/plain": [
       "<matplotlib.figure.Figure at 0x152718f550>"
      ]
     },
     "metadata": {},
     "output_type": "display_data"
    }
   ],
   "source": [
    "def wrap_angle(x):\n",
    "    x = x % (2*pi)\n",
    "    return x\n",
    "\n",
    "def order(size, theta):\n",
    "    return sum(sum(np.exp(1j*(theta[0] + theta[1]*(i+j))) for j in range(size[1])) for i in range(size[0])) / (size[0]*size[1])\n",
    "    \n",
    "\n",
    "plt.plot(gs, [wrap_angle(param[0]) for param in theta], label='Constant')\n",
    "plt.plot(gs, [wrap_angle(param[1]) for param in theta], label='Wave Vector')\n",
    "plt.plot(gs, [order(size, param) for param in theta], label='Order')\n",
    "plt.legend()\n",
    "plt.xlabel('g')\n",
    "plt.ylabel('Parameter')"
   ]
  },
  {
   "cell_type": "markdown",
   "metadata": {},
   "source": [
    "## AFM"
   ]
  },
  {
   "cell_type": "code",
   "execution_count": null,
   "metadata": {},
   "outputs": [],
   "source": [
    "#Creating a program\n",
    "Q_program = QuantumProgram()\n",
    "Q_program.set_api(Qconfig.APItoken,Qconfig.config[\"url\"])\n",
    "\n",
    "size = [4,1]\n",
    "J = [-1,0,0]\n",
    "D = [0,0,0]\n",
    "energy = []\n",
    "theta = []\n",
    "exact = []\n",
    "gs = np.arange(-20,25,5)\n",
    "\n",
    "#Initial guess calculation\n",
    "#seeds = 10 #How many initial seeds to take\n",
    "#E_g = float('Inf')\n",
    "theta_g = (pi,0)\n",
    "\n",
    "#for seed in range(seeds):\n",
    "#    theta_i = npr.rand(2)*pi #We're only doing x/z terms, so no need for phi rotations\n",
    "#    results = optim(size, H, theta_i)\n",
    "#    if results[0] < E_g:\n",
    "#        E_g = results[0]\n",
    "#        theta_g = np.mod(results[1], 2*pi)\n",
    "    \n",
    "\n",
    "for g in gs:\n",
    "    h = [0,0,g]\n",
    "    H = ising_hamiltonian(size, h, J, D)\n",
    "    exact.append(np.amin(la.eig(make_Hamiltonian(H))[0]).real)\n",
    "    H = group_paulis(H)\n",
    "    res = optim(size, H, theta_g)\n",
    "    print(g, res, exact[-1])\n",
    "    energy.append(res[0])\n",
    "    theta.append(res[1])\n",
    "    theta_g = res[1]"
   ]
  },
  {
   "cell_type": "code",
   "execution_count": null,
   "metadata": {},
   "outputs": [],
   "source": [
    "plt.plot(gs, exact, label='Exact Energy')\n",
    "plt.plot(gs, energy, label='Optimized Energy')\n",
    "plt.legend()\n",
    "plt.xlabel('g')\n",
    "plt.ylabel('Energy')"
   ]
  },
  {
   "cell_type": "code",
   "execution_count": null,
   "metadata": {},
   "outputs": [],
   "source": [
    "plt.plot(gs, [wrap_angle(param[0]) for param in theta], label='Constant')\n",
    "plt.plot(gs, [wrap_angle(param[1]) for param in theta], label='Wave Vector')\n",
    "plt.plot(gs, [order(size, param) for param in theta], label='Order')\n",
    "plt.legend()\n",
    "plt.xlabel('g')\n",
    "plt.ylabel('Parameter')"
   ]
  }
 ],
 "metadata": {
  "kernelspec": {
   "display_name": "Python 3",
   "language": "python",
   "name": "python3"
  },
  "language_info": {
   "codemirror_mode": {
    "name": "ipython",
    "version": 3
   },
   "file_extension": ".py",
   "mimetype": "text/x-python",
   "name": "python",
   "nbconvert_exporter": "python",
   "pygments_lexer": "ipython3",
   "version": "3.6.4"
  }
 },
 "nbformat": 4,
 "nbformat_minor": 2
}
