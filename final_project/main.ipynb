{
 "cells": [
  {
   "cell_type": "markdown",
   "metadata": {},
   "source": [
    "## Imports"
   ]
  },
  {
   "cell_type": "code",
   "execution_count": 150,
   "metadata": {},
   "outputs": [],
   "source": [
    "from qiskit import QuantumCircuit, ClassicalRegister, QuantumRegister\n",
    "import sys, os\n",
    "\n",
    "# useful additional packages \n",
    "import matplotlib.pyplot as plt\n",
    "%matplotlib inline\n",
    "import numpy as np\n",
    "import numpy.random as npr\n",
    "from numpy import pi\n",
    "from scipy import linalg as la\n",
    "from scipy import optimize\n",
    "from functools import partial\n",
    "\n",
    "# importing the QISKit\n",
    "from qiskit import QuantumProgram\n",
    "import Qconfig\n",
    "\n",
    "# import basic plot tools\n",
    "from qiskit.tools.visualization import plot_histogram\n",
    "\n",
    "\n",
    "# import optimization tools\n",
    "from qiskit.tools.apps.optimization import SPSA_optimization, SPSA_calibration\n",
    "from qiskit.tools.apps.optimization import make_Hamiltonian, trial_circuit_ry\n",
    "from qiskit.tools.apps.optimization import eval_hamiltonian, group_paulis\n",
    "\n",
    "# Ignore warnings due to chopping of small imaginary part of the energy \n",
    "import warnings\n",
    "warnings.filterwarnings('ignore')\n",
    "\n",
    "from qiskit.tools.qi.pauli import Pauli"
   ]
  },
  {
   "cell_type": "markdown",
   "metadata": {},
   "source": [
    "## Global Constants"
   ]
  },
  {
   "cell_type": "code",
   "execution_count": 151,
   "metadata": {},
   "outputs": [],
   "source": [
    "#Backend to run on\n",
    "device='local_qasm_simulator'"
   ]
  },
  {
   "cell_type": "markdown",
   "metadata": {},
   "source": [
    "## Helper Functions"
   ]
  },
  {
   "cell_type": "code",
   "execution_count": 152,
   "metadata": {},
   "outputs": [],
   "source": [
    "def xy_to_idx(size, x, y):\n",
    "    return (x%size[0])*size[1] + (y%size[1])\n",
    "\n",
    "def spin_wave_circuit(size, theta):\n",
    "    #Creates a circuit which initializes a 2D spin wave, of size 'size' and rate of change 'theta'\n",
    "    N = size[0]*size[1] #Number of spins\n",
    "    q = QuantumRegister(\"q\", N)\n",
    "    c = ClassicalRegister(\"c\", N)\n",
    "    circuit = QuantumCircuit(q, c)\n",
    "    for i in range(size[0]):\n",
    "        for j in range(size[1]):\n",
    "            phase = theta[0] + theta[1]*(i+j)\n",
    "            idx = xy_to_idx(size, i, j)\n",
    "            circuit.ry(phase, q[idx])\n",
    "            if len(theta) > 2: #Only do phi rotations if the initial guess includes them\n",
    "                phi = theta[2] + theta[3]*(i+j)\n",
    "                circuit.rz(phi, q[idx])\n",
    "    return circuit\n",
    "\n",
    "def ising_hamiltonian(size, h, J, D):\n",
    "    N = size[0]*size[1] #Number of spins\n",
    "    pauli_list = []\n",
    "    zeros = np.zeros(N)\n",
    "    \n",
    "    #External field\n",
    "    for i in range(size[0]):\n",
    "        for j in range(size[1]):\n",
    "            idx = xy_to_idx(size, i, j)\n",
    "            mask = np.copy(zeros)\n",
    "            mask[idx] = 1\n",
    "            \n",
    "            #Adding in X terms\n",
    "            pauli = Pauli(zeros, mask)\n",
    "            pauli_list.append([-h[0], pauli])\n",
    "            \n",
    "            #Adding in Y terms\n",
    "            pauli = Pauli(mask, mask)\n",
    "            pauli_list.append([-h[1], pauli])\n",
    "            \n",
    "            #Adding in Z terms\n",
    "            pauli = Pauli(mask, zeros)\n",
    "            pauli_list.append([-h[2], pauli])\n",
    "            \n",
    "            \n",
    "    for i in range(size[0]):\n",
    "        for j in range(size[1]):\n",
    "            #X-neighbors\n",
    "            idx1 = xy_to_idx(size, i, j)\n",
    "            idx2 = xy_to_idx(size, i+1, j)\n",
    "            mask = np.copy(zeros)\n",
    "            mask[idx1] = 1\n",
    "            mask[idx2] = 1\n",
    "            \n",
    "            #Adding in X terms\n",
    "            pauli = Pauli(zeros, mask)\n",
    "            pauli_list.append([-J[0], pauli])\n",
    "            \n",
    "            #Adding in Y terms\n",
    "            pauli = Pauli(mask, mask)\n",
    "            pauli_list.append([-J[1], pauli])\n",
    "            \n",
    "            #Adding in Z terms\n",
    "            pauli = Pauli(mask, zeros)\n",
    "            pauli_list.append([-J[2], pauli])\n",
    "            \n",
    "            '''\n",
    "            #Y-neighbors\n",
    "            idx2 = xy_to_idx(size, i, j+1)\n",
    "            mask = np.copy(zeros)\n",
    "            mask[idx1] = 1\n",
    "            mask[idx2] = 1\n",
    "            \n",
    "            #Adding in X terms\n",
    "            pauli = Pauli(zeros, mask)\n",
    "            pauli_list.append([-J[0], pauli])\n",
    "            \n",
    "            #Adding in Y terms\n",
    "            pauli = Pauli(mask, mask)\n",
    "            pauli_list.append([-J[1], pauli])\n",
    "            \n",
    "            #Adding in Z terms\n",
    "            pauli = Pauli(mask, zeros)\n",
    "            pauli_list.append([-J[2], pauli])\n",
    "            \n",
    "            #D+ neighbors\n",
    "            idx2 = xy_to_idx(size, i+1, j+1)\n",
    "            mask = np.copy(zeros)\n",
    "            mask[idx1] = 1\n",
    "            mask[idx2] = 1\n",
    "            \n",
    "            #Adding in X terms\n",
    "            pauli = Pauli(zeros, mask)\n",
    "            pauli_list.append([-D[0], pauli])\n",
    "            \n",
    "            #Adding in Y terms\n",
    "            pauli = Pauli(mask, mask)\n",
    "            pauli_list.append([-D[1], pauli])\n",
    "            \n",
    "            #Adding in Z terms\n",
    "            pauli = Pauli(mask, zeros)\n",
    "            pauli_list.append([-D[2], pauli])\n",
    "            \n",
    "            #D+ neighbors\n",
    "            idx2 = xy_to_idx(size, i+1, j-1)\n",
    "            mask = np.copy(zeros)\n",
    "            mask[idx1] = 1\n",
    "            mask[idx2] = 1\n",
    "            \n",
    "            #Adding in X terms\n",
    "            pauli = Pauli(zeros, mask)\n",
    "            pauli_list.append([-D[0], pauli])\n",
    "            \n",
    "            #Adding in Y terms\n",
    "            pauli = Pauli(mask, mask)\n",
    "            pauli_list.append([-D[1], pauli])\n",
    "            \n",
    "            #Adding in Z terms\n",
    "            pauli = Pauli(mask, zeros)\n",
    "            pauli_list.append([-D[2], pauli])\n",
    "            '''\n",
    "    \n",
    "    #Filtering out zero terms\n",
    "    pauli_list = [pauli for pauli in pauli_list if pauli[0] != 0]\n",
    "    #for pauli in pauli_list:\n",
    "    #    print(pauli[0], pauli[1].to_label())\n",
    "    return pauli_list\n",
    "\n",
    "#Creating a cost function\n",
    "def cost_function(Q_program, size, H, theta):\n",
    "    shots = 100 #TODO: Should this ever change?\n",
    "    return eval_hamiltonian(Q_program, H, spin_wave_circuit(size, theta), shots, device).real\n",
    "\n",
    "def SPSA_optimize(size, H, theta_i):\n",
    "    #SPSA variables\n",
    "    initial_c = 0.01\n",
    "    target_update = 2*np.pi*0.1\n",
    "    save_step = 1000\n",
    "    max_trials = max_steps\n",
    "    \n",
    "    cost = partial(cost_function, Q_program, size, H)\n",
    "    SPSA_params = SPSA_calibration(cost, theta_i, initial_c, target_update, 5)\n",
    "    output = SPSA_optimization(cost, theta_i, SPSA_params, max_trials, save_step, 1)\n",
    "    return output\n",
    "\n",
    "def NM_optimize(size, H, theta_i, max_steps):\n",
    "    options = {'disp' : True, 'maxiter': max_steps}\n",
    "    cost = partial(cost_function, Q_program, size, H)\n",
    "    res = optimize.minimize(cost, theta_i, method=\"Nelder-Mead\", options=options)\n",
    "    output = [res.fun, res.x]\n",
    "    return output\n",
    "\n",
    "def callbackF(Xi):\n",
    "    global Nfeval\n",
    "    print('{0:4d}   {1: 3.6f}   {2: 3.6f}   {3: 3.6f}   {4: 3.6f}'.format(Nfeval, Xi[0], Xi[1], Xi[2], rosen(Xi)))\n",
    "    Nfeval += 1\n",
    "\n",
    "def optim(size, H, theta_i, max_steps):\n",
    "    return NM_optimize(size, H, theta_i, max_steps)"
   ]
  },
  {
   "cell_type": "markdown",
   "metadata": {},
   "source": [
    "## Testing\n",
    "Let's start with the simplest case - J=0. Without another scale, we can set h = + 1."
   ]
  },
  {
   "cell_type": "code",
   "execution_count": 153,
   "metadata": {
    "scrolled": true
   },
   "outputs": [
    {
     "data": {
      "text/plain": [
       "Text(0,0.5,'Energy')"
      ]
     },
     "execution_count": 153,
     "metadata": {},
     "output_type": "execute_result"
    },
    {
     "data": {
      "image/png": "[encoded data removed]",
      "text/plain": [
       "<matplotlib.figure.Figure at 0x152b184828>"
      ]
     },
     "metadata": {},
     "output_type": "display_data"
    }
   ],
   "source": [
    "###### Creating a program\n",
    "Q_program = QuantumProgram()\n",
    "Q_program.set_api(Qconfig.APItoken,Qconfig.config[\"url\"])\n",
    "\n",
    "size = [6,1]\n",
    "h = [0,0,1]\n",
    "J = [0,0,0]\n",
    "D = [0,0,0]\n",
    "H = ising_hamiltonian(size, h, J, D)\n",
    "H = group_paulis(H)\n",
    "\n",
    "omegas = np.arange(0,2*pi,0.1)\n",
    "thetas = [(0, omega) for omega in omegas]\n",
    "energy = [cost_function(Q_program, size, H, theta) for theta in thetas]\n",
    "\n",
    "\n",
    "plt.plot(omegas, energy, label='Energy')\n",
    "plt.xlabel('$\\omega$')\n",
    "plt.ylabel('Energy')"
   ]
  },
  {
   "cell_type": "markdown",
   "metadata": {},
   "source": [
    "Similarly, can set J=1, h=0."
   ]
  },
  {
   "cell_type": "code",
   "execution_count": 154,
   "metadata": {},
   "outputs": [
    {
     "data": {
      "text/plain": [
       "Text(0,0.5,'Energy')"
      ]
     },
     "execution_count": 154,
     "metadata": {},
     "output_type": "execute_result"
    },
    {
     "data": {
      "image/png": "[encoded data removed]",
      "text/plain": [
       "<matplotlib.figure.Figure at 0x152aff6a90>"
      ]
     },
     "metadata": {},
     "output_type": "display_data"
    }
   ],
   "source": [
    "h = [0,0,0]\n",
    "J = [1,0,0]\n",
    "D = [0,0,0]\n",
    "H = ising_hamiltonian(size, h, J, D)\n",
    "H = group_paulis(H)\n",
    "\n",
    "omegas = np.arange(0,2*pi,0.1)\n",
    "thetas = [(pi/2, omega) for omega in omegas]\n",
    "energy = [cost_function(Q_program, size, H, theta) for theta in thetas]\n",
    "\n",
    "\n",
    "plt.plot(omegas, energy, label='Energy')\n",
    "plt.xlabel('$\\omega$')\n",
    "plt.ylabel('Energy')"
   ]
  },
  {
   "cell_type": "markdown",
   "metadata": {},
   "source": [
    "# GSE and Order Parameters\n",
    "## FM Coupling"
   ]
  },
  {
   "cell_type": "code",
   "execution_count": 155,
   "metadata": {},
   "outputs": [
    {
     "name": "stdout",
     "output_type": "stream",
     "text": [
      "Warning: Maximum number of iterations has been exceeded.\n",
      "-20 [-80.56, array([ 3.17262376e+00, -3.75896424e-05])] -80.05004684561014\n",
      "Warning: Maximum number of iterations has been exceeded.\n",
      "-15 [-60.52, array([ 3.12304941e+00, -3.90580183e-05])] -60.0667776536247\n",
      "Warning: Maximum number of iterations has been exceeded.\n",
      "-10 [-40.84, array([ 3.13280894e+00, -4.02175532e-05])] -40.10037405062514\n",
      "Warning: Maximum number of iterations has been exceeded.\n",
      "-5 [-20.580000000000002, array([ 3.26016349e+00, -3.99659924e-05])] -20.202968496019313\n",
      "Optimization terminated successfully.\n",
      "         Current function value: -4.000000\n",
      "         Iterations: 22\n",
      "         Function evaluations: 66\n",
      "0 [-4.0, array([ 4.64573297e+00, -3.67187555e-05])] -4.000000000000001\n",
      "Warning: Maximum number of iterations has been exceeded.\n",
      "5 [-20.52, array([ 6.14107827e+00, -2.95471236e-05])] -20.20296849601933\n",
      "Warning: Maximum number of iterations has been exceeded.\n",
      "10 [-40.6, array([ 6.33770048e+00, -2.95924675e-05])] -40.10037405062512\n",
      "Warning: Maximum number of iterations has been exceeded.\n",
      "15 [-60.519999999999996, array([ 6.29569446e+00, -3.20883456e-05])] -60.06677765362474\n",
      "Warning: Maximum number of iterations has been exceeded.\n",
      "20 [-80.44, array([ 6.29569474e+00, -3.36927693e-05])] -80.0500468456101\n"
     ]
    }
   ],
   "source": [
    "#Creating a program\n",
    "Q_program = QuantumProgram()\n",
    "Q_program.set_api(Qconfig.APItoken,Qconfig.config[\"url\"])\n",
    "\n",
    "size = [4,1]\n",
    "J = [1,0,0]\n",
    "D = [0,0,0]\n",
    "energy = []\n",
    "theta = []\n",
    "exact = []\n",
    "gs = np.arange(-20,25,5)\n",
    "#Number of optimization steps\n",
    "max_steps = 100\n",
    "\n",
    "#Initial guess calculation\n",
    "#seeds = 10 #How many initial seeds to take\n",
    "#E_g = float('Inf')\n",
    "theta_g = (pi,0)\n",
    "\n",
    "#for seed in range(seeds):\n",
    "#    theta_i = npr.rand(2)*pi #We're only doing x/z terms, so no need for phi rotations\n",
    "#    results = optim(size, H, theta_i)\n",
    "#    if results[0] < E_g:\n",
    "#        E_g = results[0]\n",
    "#        theta_g = np.mod(results[1], 2*pi)\n",
    "    \n",
    "\n",
    "for g in gs:\n",
    "    h = [0,0,g]\n",
    "    H = ising_hamiltonian(size, h, J, D)\n",
    "    exact.append(np.amin(la.eig(make_Hamiltonian(H))[0]).real)\n",
    "    H = group_paulis(H)\n",
    "    res = optim(size, H, theta_g, max_steps)\n",
    "    print(g, res, exact[-1])\n",
    "    energy.append(res[0])\n",
    "    theta.append(res[1])\n",
    "    theta_g = res[1]"
   ]
  },
  {
   "cell_type": "code",
   "execution_count": 156,
   "metadata": {},
   "outputs": [
    {
     "data": {
      "text/plain": [
       "Text(0,0.5,'Energy')"
      ]
     },
     "execution_count": 156,
     "metadata": {},
     "output_type": "execute_result"
    },
    {
     "data": {
      "image/png": "[encoded data removed]",
      "text/plain": [
       "<matplotlib.figure.Figure at 0x152affd1d0>"
      ]
     },
     "metadata": {},
     "output_type": "display_data"
    }
   ],
   "source": [
    "plt.plot(gs, exact, label='Exact Energy')\n",
    "plt.plot(gs, energy, label='Optimized Energy')\n",
    "plt.legend()\n",
    "plt.xlabel('g')\n",
    "plt.ylabel('Energy')"
   ]
  },
  {
   "cell_type": "code",
   "execution_count": 169,
   "metadata": {},
   "outputs": [
    {
     "data": {
      "text/plain": [
       "Text(0,0.5,'Parameter')"
      ]
     },
     "execution_count": 169,
     "metadata": {},
     "output_type": "execute_result"
    },
    {
     "data": {
      "image/png": "[encoded data removed]",
      "text/plain": [
       "<matplotlib.figure.Figure at 0x152ade47f0>"
      ]
     },
     "metadata": {},
     "output_type": "display_data"
    }
   ],
   "source": [
    "def wrap_angle(x):\n",
    "    x = x % (2*pi)\n",
    "    return x\n",
    "\n",
    "def order(size, theta):\n",
    "    return sum(sum(np.exp(1j*(theta[0] + theta[1]*(i+j))) for j in range(size[1])) for i in range(size[0])) / (size[0]*size[1])\n",
    "    \n",
    "\n",
    "plt.plot(gs, [wrap_angle(param[0]) for param in theta], label='$\\theta$')\n",
    "plt.plot(gs, [wrap_angle(param[1]) for param in theta], label='$\\omega$')\n",
    "plt.plot(gs, [order(size, param) for param in theta], label='Order')\n",
    "plt.legend()\n",
    "plt.xlabel('g')\n",
    "plt.ylabel('Parameter')"
   ]
  },
  {
   "cell_type": "code",
   "execution_count": 158,
   "metadata": {},
   "outputs": [
    {
     "data": {
      "text/plain": [
       "Text(0,0.5,'Overlap')"
      ]
     },
     "execution_count": 158,
     "metadata": {},
     "output_type": "execute_result"
    },
    {
     "data": {
      "image/png": "[encoded data removed]",
      "text/plain": [
       "<matplotlib.figure.Figure at 0x152cd23240>"
      ]
     },
     "metadata": {},
     "output_type": "display_data"
    }
   ],
   "source": [
    "overlap = []\n",
    "\n",
    "for i in range(len(gs)):\n",
    "    h = [0,0,gs[i]]\n",
    "    H = ising_hamiltonian(size, h, J, D)\n",
    "    w, v = la.eig(make_Hamiltonian(H))\n",
    "    circuit = ['c' + \"ASDF\"]    # unique random circuit for no collision\n",
    "    Q_program.add_circuit(circuit[0], spin_wave_circuit(size, theta[i]))\n",
    "    result = Q_program.execute(circuit, device, shots=1,\n",
    "                                       config={\"data\": [\"quantum_state\"]})\n",
    "    quantum_state = result.get_data(circuit[0]).get('quantum_state')\n",
    "    overlap.append(np.abs(np.dot(v[:,0], quantum_state))**2)\n",
    "    \n",
    "plt.plot(gs, overlap)\n",
    "plt.xlabel('g')\n",
    "plt.ylabel('Overlap')"
   ]
  },
  {
   "cell_type": "markdown",
   "metadata": {},
   "source": [
    "## Zooming In on (A)FM transition"
   ]
  },
  {
   "cell_type": "code",
   "execution_count": 159,
   "metadata": {},
   "outputs": [],
   "source": [
    "#All of these need to be redefined so the program runs\n",
    "def cost_function(Q_program, size, H, theta):\n",
    "    shots = 1 #TODO: Should this ever change?\n",
    "    return eval_hamiltonian(Q_program, H, spin_wave_circuit(size, theta), shots, device).real\n",
    "\n",
    "def NM_optimize(size, H, theta_i, max_steps):\n",
    "    options = {'disp' : True, 'maxiter': max_steps}\n",
    "    cost = partial(cost_function, Q_program, size, H)\n",
    "    res = optimize.minimize(cost, theta_i, method=\"Nelder-Mead\", options=options)\n",
    "    output = [res.fun, res.x]\n",
    "    return output\n",
    "\n",
    "def optim(size, H, theta_i, max_steps):\n",
    "    return NM_optimize(size, H, theta_i, max_steps)"
   ]
  },
  {
   "cell_type": "code",
   "execution_count": 174,
   "metadata": {},
   "outputs": [
    {
     "name": "stdout",
     "output_type": "stream",
     "text": [
      "Warning: Maximum number of iterations has been exceeded.\n",
      "Warning: Maximum number of iterations has been exceeded.\n",
      "Warning: Maximum number of iterations has been exceeded.\n",
      "Warning: Maximum number of iterations has been exceeded.\n",
      "Warning: Maximum number of iterations has been exceeded.\n",
      "Warning: Maximum number of iterations has been exceeded.\n",
      "Warning: Maximum number of iterations has been exceeded.\n",
      "Warning: Maximum number of iterations has been exceeded.\n",
      "Warning: Maximum number of iterations has been exceeded.\n",
      "Warning: Maximum number of iterations has been exceeded.\n",
      "0.0 [-5.999829952947145, array([1.57119967, 3.1432394 ])] -6.000000000000002\n",
      "Warning: Maximum number of iterations has been exceeded.\n",
      "Warning: Maximum number of iterations has been exceeded.\n",
      "Warning: Maximum number of iterations has been exceeded.\n",
      "Warning: Maximum number of iterations has been exceeded.\n",
      "Warning: Maximum number of iterations has been exceeded.\n",
      "Warning: Maximum number of iterations has been exceeded.\n",
      "Warning: Maximum number of iterations has been exceeded.\n",
      "Warning: Maximum number of iterations has been exceeded.\n",
      "Warning: Maximum number of iterations has been exceeded.\n",
      "Warning: Maximum number of iterations has been exceeded.\n",
      "0.25 [-6.007888233272832, array([1.51965086, 3.16390226])] -6.094180659279413\n",
      "Warning: Maximum number of iterations has been exceeded.\n",
      "Warning: Maximum number of iterations has been exceeded.\n",
      "Warning: Maximum number of iterations has been exceeded.\n",
      "Warning: Maximum number of iterations has been exceeded.\n",
      "Warning: Maximum number of iterations has been exceeded.\n",
      "Warning: Maximum number of iterations has been exceeded.\n",
      "Warning: Maximum number of iterations has been exceeded.\n",
      "Warning: Maximum number of iterations has been exceeded.\n",
      "Warning: Maximum number of iterations has been exceeded.\n",
      "Warning: Maximum number of iterations has been exceeded.\n",
      "0.5 [-6.032047709120797, array([1.46297429, 3.18510299])] -6.384694563603681\n",
      "Warning: Maximum number of iterations has been exceeded.\n",
      "Warning: Maximum number of iterations has been exceeded.\n",
      "Warning: Maximum number of iterations has been exceeded.\n",
      "Warning: Maximum number of iterations has been exceeded.\n",
      "Warning: Maximum number of iterations has been exceeded.\n",
      "Warning: Maximum number of iterations has been exceeded.\n",
      "Warning: Maximum number of iterations has been exceeded.\n",
      "Warning: Maximum number of iterations has been exceeded.\n",
      "Warning: Maximum number of iterations has been exceeded.\n",
      "Warning: Maximum number of iterations has been exceeded.\n",
      "0.75 [-6.071910275934151, array([1.41290108, 3.20519117])] -6.909787069091311\n",
      "Warning: Maximum number of iterations has been exceeded.\n",
      "Warning: Maximum number of iterations has been exceeded.\n",
      "Warning: Maximum number of iterations has been exceeded.\n",
      "Warning: Maximum number of iterations has been exceeded.\n",
      "Warning: Maximum number of iterations has been exceeded.\n",
      "Warning: Maximum number of iterations has been exceeded.\n",
      "Warning: Maximum number of iterations has been exceeded.\n",
      "Warning: Maximum number of iterations has been exceeded.\n",
      "Warning: Maximum number of iterations has been exceeded.\n",
      "Warning: Maximum number of iterations has been exceeded.\n",
      "1.0 [-6.1272579659364705, array([1.35755379, 3.22583424])] -7.727406610312569\n",
      "Warning: Maximum number of iterations has been exceeded.\n",
      "Warning: Maximum number of iterations has been exceeded.\n",
      "Warning: Maximum number of iterations has been exceeded.\n",
      "Warning: Maximum number of iterations has been exceeded.\n",
      "Warning: Maximum number of iterations has been exceeded.\n",
      "Warning: Maximum number of iterations has been exceeded.\n",
      "Warning: Maximum number of iterations has been exceeded.\n",
      "Warning: Maximum number of iterations has been exceeded.\n",
      "Warning: Maximum number of iterations has been exceeded.\n",
      "Warning: Maximum number of iterations has been exceeded.\n",
      "1.25 [-7.283907809188498, array([-0.33738136,  0.09487603])] -8.811005593761953\n",
      "Warning: Maximum number of iterations has been exceeded.\n",
      "Warning: Maximum number of iterations has been exceeded.\n",
      "Warning: Maximum number of iterations has been exceeded.\n",
      "Warning: Maximum number of iterations has been exceeded.\n",
      "Warning: Maximum number of iterations has been exceeded.\n",
      "Warning: Maximum number of iterations has been exceeded.\n",
      "Warning: Maximum number of iterations has been exceeded.\n",
      "Warning: Maximum number of iterations has been exceeded.\n",
      "Warning: Maximum number of iterations has been exceeded.\n",
      "Warning: Maximum number of iterations has been exceeded.\n",
      "1.5 [-8.99974343879148, array([ 6.29151396e+00, -3.88820837e-03])] -10.056946423167547\n",
      "Warning: Maximum number of iterations has been exceeded.\n",
      "Warning: Maximum number of iterations has been exceeded.\n",
      "Warning: Maximum number of iterations has been exceeded.\n",
      "Warning: Maximum number of iterations has been exceeded.\n",
      "Warning: Maximum number of iterations has been exceeded.\n",
      "Warning: Maximum number of iterations has been exceeded.\n",
      "Warning: Maximum number of iterations has been exceeded.\n",
      "Warning: Maximum number of iterations has been exceeded.\n",
      "Warning: Maximum number of iterations has been exceeded.\n",
      "Warning: Maximum number of iterations has been exceeded.\n",
      "1.75 [-10.499190375951263, array([-0.01525489,  0.00665256])] -11.389055552798785\n",
      "Warning: Maximum number of iterations has been exceeded.\n",
      "Warning: Maximum number of iterations has been exceeded.\n",
      "Warning: Maximum number of iterations has been exceeded.\n",
      "Warning: Maximum number of iterations has been exceeded.\n",
      "Warning: Maximum number of iterations has been exceeded.\n",
      "Warning: Maximum number of iterations has been exceeded.\n",
      "Warning: Maximum number of iterations has been exceeded.\n",
      "Warning: Maximum number of iterations has been exceeded.\n",
      "Warning: Maximum number of iterations has been exceeded.\n",
      "Warning: Maximum number of iterations has been exceeded.\n",
      "2.0 [-6.911825722515901, array([4.89141502, 0.52654606])] -12.769389127207326\n",
      "Warning: Maximum number of iterations has been exceeded.\n",
      "Warning: Maximum number of iterations has been exceeded.\n",
      "Warning: Maximum number of iterations has been exceeded.\n",
      "Warning: Maximum number of iterations has been exceeded.\n",
      "Warning: Maximum number of iterations has been exceeded.\n",
      "Warning: Maximum number of iterations has been exceeded.\n",
      "Warning: Maximum number of iterations has been exceeded.\n",
      "Warning: Maximum number of iterations has been exceeded.\n",
      "Warning: Maximum number of iterations has been exceeded.\n",
      "Warning: Maximum number of iterations has been exceeded.\n",
      "2.25 [-13.497346993673418, array([6.28235325e+00, 5.36179877e-03])] -14.179250129669597\n",
      "Warning: Maximum number of iterations has been exceeded.\n",
      "Warning: Maximum number of iterations has been exceeded.\n",
      "Warning: Maximum number of iterations has been exceeded.\n",
      "Warning: Maximum number of iterations has been exceeded.\n",
      "Warning: Maximum number of iterations has been exceeded.\n",
      "Warning: Maximum number of iterations has been exceeded.\n",
      "Warning: Maximum number of iterations has been exceeded.\n",
      "Warning: Maximum number of iterations has been exceeded.\n",
      "Warning: Maximum number of iterations has been exceeded.\n",
      "Warning: Maximum number of iterations has been exceeded.\n",
      "2.5 [-14.999336057108938, array([-0.00233001, -0.00171703])] -15.60860910924971\n",
      "Warning: Maximum number of iterations has been exceeded.\n",
      "Warning: Maximum number of iterations has been exceeded.\n",
      "Warning: Maximum number of iterations has been exceeded.\n",
      "Warning: Maximum number of iterations has been exceeded.\n",
      "Warning: Maximum number of iterations has been exceeded.\n",
      "Warning: Maximum number of iterations has been exceeded.\n",
      "Warning: Maximum number of iterations has been exceeded.\n",
      "Warning: Maximum number of iterations has been exceeded.\n",
      "Warning: Maximum number of iterations has been exceeded.\n",
      "Warning: Maximum number of iterations has been exceeded.\n",
      "2.75 [-16.499128798589634, array([ 0.0140593 , -0.00572405])] -17.051599656425715\n",
      "Warning: Maximum number of iterations has been exceeded.\n",
      "Warning: Maximum number of iterations has been exceeded.\n",
      "Warning: Maximum number of iterations has been exceeded.\n",
      "Warning: Maximum number of iterations has been exceeded.\n",
      "Warning: Maximum number of iterations has been exceeded.\n",
      "Warning: Maximum number of iterations has been exceeded.\n",
      "Warning: Maximum number of iterations has been exceeded.\n"
     ]
    },
    {
     "name": "stdout",
     "output_type": "stream",
     "text": [
      "Warning: Maximum number of iterations has been exceeded.\n",
      "Warning: Maximum number of iterations has been exceeded.\n",
      "Warning: Maximum number of iterations has been exceeded.\n",
      "3.0 [-17.994073530775083, array([-0.03412724,  0.01430877])] -18.5045401299555\n",
      "Warning: Maximum number of iterations has been exceeded.\n",
      "Warning: Maximum number of iterations has been exceeded.\n",
      "Warning: Maximum number of iterations has been exceeded.\n",
      "Warning: Maximum number of iterations has been exceeded.\n",
      "Warning: Maximum number of iterations has been exceeded.\n",
      "Warning: Maximum number of iterations has been exceeded.\n",
      "Warning: Maximum number of iterations has been exceeded.\n",
      "Warning: Maximum number of iterations has been exceeded.\n",
      "Warning: Maximum number of iterations has been exceeded.\n",
      "Warning: Maximum number of iterations has been exceeded.\n",
      "3.25 [-19.154191108811943, array([6.18712534, 0.07848694])] -19.964989376710662\n",
      "Warning: Maximum number of iterations has been exceeded.\n",
      "Warning: Maximum number of iterations has been exceeded.\n",
      "Warning: Maximum number of iterations has been exceeded.\n",
      "Warning: Maximum number of iterations has been exceeded.\n",
      "Warning: Maximum number of iterations has been exceeded.\n",
      "Warning: Maximum number of iterations has been exceeded.\n",
      "Warning: Maximum number of iterations has been exceeded.\n",
      "Warning: Maximum number of iterations has been exceeded.\n",
      "Warning: Maximum number of iterations has been exceeded.\n",
      "Warning: Maximum number of iterations has been exceeded.\n",
      "3.5 [-20.985359366623285, array([ 6.33103627, -0.00815723])] -21.4312573107297\n",
      "Warning: Maximum number of iterations has been exceeded.\n",
      "Warning: Maximum number of iterations has been exceeded.\n",
      "Warning: Maximum number of iterations has been exceeded.\n",
      "Warning: Maximum number of iterations has been exceeded.\n",
      "Warning: Maximum number of iterations has been exceeded.\n",
      "Warning: Maximum number of iterations has been exceeded.\n",
      "Warning: Maximum number of iterations has been exceeded.\n",
      "Warning: Maximum number of iterations has been exceeded.\n",
      "Warning: Maximum number of iterations has been exceeded.\n",
      "Warning: Maximum number of iterations has been exceeded.\n",
      "3.75 [-22.495274296249043, array([6.25670442, 0.01146714])] -22.902132696069444\n",
      "Warning: Maximum number of iterations has been exceeded.\n",
      "Warning: Maximum number of iterations has been exceeded.\n",
      "Warning: Maximum number of iterations has been exceeded.\n",
      "Warning: Maximum number of iterations has been exceeded.\n",
      "Warning: Maximum number of iterations has been exceeded.\n",
      "Warning: Maximum number of iterations has been exceeded.\n",
      "Warning: Maximum number of iterations has been exceeded.\n",
      "Warning: Maximum number of iterations has been exceeded.\n",
      "Warning: Maximum number of iterations has been exceeded.\n",
      "Warning: Maximum number of iterations has been exceeded.\n",
      "4.0 [-23.98121382360995, array([-0.05428496,  0.02235651])] -24.376722637117744\n",
      "Warning: Maximum number of iterations has been exceeded.\n",
      "Warning: Maximum number of iterations has been exceeded.\n",
      "Warning: Maximum number of iterations has been exceeded.\n",
      "Warning: Maximum number of iterations has been exceeded.\n",
      "Warning: Maximum number of iterations has been exceeded.\n",
      "Warning: Maximum number of iterations has been exceeded.\n",
      "Warning: Maximum number of iterations has been exceeded.\n",
      "Warning: Maximum number of iterations has been exceeded.\n",
      "Warning: Maximum number of iterations has been exceeded.\n",
      "Warning: Maximum number of iterations has been exceeded.\n",
      "4.25 [-25.48891517945497, array([-0.04368867,  0.01665338])] -25.854353273072746\n",
      "Warning: Maximum number of iterations has been exceeded.\n",
      "Warning: Maximum number of iterations has been exceeded.\n",
      "Warning: Maximum number of iterations has been exceeded.\n",
      "Warning: Maximum number of iterations has been exceeded.\n",
      "Warning: Maximum number of iterations has been exceeded.\n",
      "Warning: Maximum number of iterations has been exceeded.\n",
      "Warning: Maximum number of iterations has been exceeded.\n",
      "Warning: Maximum number of iterations has been exceeded.\n",
      "Warning: Maximum number of iterations has been exceeded.\n",
      "Warning: Maximum number of iterations has been exceeded.\n",
      "4.5 [-26.966111855106835, array([-0.04524863,  0.02549987])] -27.33450583698555\n",
      "Warning: Maximum number of iterations has been exceeded.\n",
      "Warning: Maximum number of iterations has been exceeded.\n",
      "Warning: Maximum number of iterations has been exceeded.\n",
      "Warning: Maximum number of iterations has been exceeded.\n",
      "Warning: Maximum number of iterations has been exceeded.\n",
      "Warning: Maximum number of iterations has been exceeded.\n",
      "Warning: Maximum number of iterations has been exceeded.\n",
      "Warning: Maximum number of iterations has been exceeded.\n",
      "Warning: Maximum number of iterations has been exceeded.\n",
      "Warning: Maximum number of iterations has been exceeded.\n",
      "4.75 [-28.40342335044105, array([ 0.12472122, -0.04647807])] -28.81677408268336\n"
     ]
    }
   ],
   "source": [
    "#Creating a program\n",
    "Q_program = QuantumProgram()\n",
    "Q_program.set_api(Qconfig.APItoken,Qconfig.config[\"url\"])\n",
    "\n",
    "size = [6,1]\n",
    "\n",
    "energy = []\n",
    "theta = []\n",
    "exact = []\n",
    "overlap = []\n",
    "gs = np.arange(0,5,0.25)\n",
    "theta_g = (pi/2,pi)\n",
    "seeds = 10\n",
    "max_steps = 20\n",
    "J = [-1,0,0]\n",
    "\n",
    "for g in gs:\n",
    "    h = [0,0,g]\n",
    "    H = ising_hamiltonian(size, h, J, D)\n",
    "    exact.append(np.amin(la.eig(make_Hamiltonian(H))[0]).real)\n",
    "    H = make_Hamiltonian(H)\n",
    "    res = (float('Inf'),)\n",
    "    for seed in range(seeds):\n",
    "        theta_i = npr.rand(2)*pi #We're only doing x/z terms, so no need for phi rotations\n",
    "        results = optim(size, H, theta_i, max_steps)\n",
    "        if results[0] < res[0]:\n",
    "            res = results\n",
    "    print(g, res, exact[-1])\n",
    "    energy.append(res[0])\n",
    "    theta.append(res[1])\n",
    "    theta_g = res[1]"
   ]
  },
  {
   "cell_type": "code",
   "execution_count": 175,
   "metadata": {},
   "outputs": [
    {
     "data": {
      "text/plain": [
       "Text(0,0.5,'Energy')"
      ]
     },
     "execution_count": 175,
     "metadata": {},
     "output_type": "execute_result"
    },
    {
     "data": {
      "image/png": "[encoded data removed]",
      "text/plain": [
       "<matplotlib.figure.Figure at 0x15292cad30>"
      ]
     },
     "metadata": {},
     "output_type": "display_data"
    }
   ],
   "source": [
    "plt.plot(gs, exact, label='Exact Energy')\n",
    "plt.plot(gs, energy, label='Optimized Energy')\n",
    "plt.legend()\n",
    "plt.xlabel('g')\n",
    "plt.ylabel('Energy')"
   ]
  },
  {
   "cell_type": "code",
   "execution_count": 185,
   "metadata": {},
   "outputs": [
    {
     "data": {
      "text/plain": [
       "Text(0,0.5,'Parameter')"
      ]
     },
     "execution_count": 185,
     "metadata": {},
     "output_type": "execute_result"
    },
    {
     "data": {
      "image/png": "[encoded data removed]",
      "text/plain": [
       "<matplotlib.figure.Figure at 0x152517be80>"
      ]
     },
     "metadata": {},
     "output_type": "display_data"
    }
   ],
   "source": [
    "def wrap_angle(x):\n",
    "    if x > 3*pi/2:\n",
    "        x = x - 2*pi\n",
    "    return x\n",
    "plt.plot(gs, [wrap_angle(param[0]) for param in theta], label='$\\Theta$')\n",
    "plt.plot(gs, [wrap_angle(param[1]) for param in theta], label='$\\omega$')\n",
    "plt.plot(gs, [order(size, param) for param in theta], label='Order')\n",
    "plt.legend()\n",
    "plt.xlabel('g')\n",
    "plt.ylabel('Parameter')"
   ]
  },
  {
   "cell_type": "code",
   "execution_count": 177,
   "metadata": {},
   "outputs": [],
   "source": [
    "overlap = []\n",
    "\n",
    "for i in range(len(gs)):\n",
    "    h = [0,0,gs[i]]\n",
    "    H = ising_hamiltonian(size, h, J, D)\n",
    "    w, v = la.eig(make_Hamiltonian(H))\n",
    "    circuit = ['c' + \"ASDF\"]    # unique random circuit for no collision\n",
    "    Q_program.add_circuit(circuit[0], spin_wave_circuit(size, theta[i]))\n",
    "    result = Q_program.execute(circuit, device, shots=1,\n",
    "                                       config={\"data\": [\"quantum_state\"]})\n",
    "    quantum_state = result.get_data(circuit[0]).get('quantum_state')\n",
    "    overlap.append(np.abs(np.dot(v[:,0], quantum_state))**2)"
   ]
  },
  {
   "cell_type": "code",
   "execution_count": 178,
   "metadata": {},
   "outputs": [
    {
     "data": {
      "text/plain": [
       "Text(0,0.5,'Overlap')"
      ]
     },
     "execution_count": 178,
     "metadata": {},
     "output_type": "execute_result"
    },
    {
     "data": {
      "image/png": "[encoded data removed]",
      "text/plain": [
       "<matplotlib.figure.Figure at 0x1526ab72e8>"
      ]
     },
     "metadata": {},
     "output_type": "display_data"
    }
   ],
   "source": [
    "plt.plot(gs, overlap)\n",
    "plt.xlabel('g')\n",
    "plt.ylabel('Overlap')"
   ]
  }
 ],
 "metadata": {
  "kernelspec": {
   "display_name": "Python 3",
   "language": "python",
   "name": "python3"
  },
  "language_info": {
   "codemirror_mode": {
    "name": "ipython",
    "version": 3
   },
   "file_extension": ".py",
   "mimetype": "text/x-python",
   "name": "python",
   "nbconvert_exporter": "python",
   "pygments_lexer": "ipython3",
   "version": "3.6.4"
  }
 },
 "nbformat": 4,
 "nbformat_minor": 2
}
