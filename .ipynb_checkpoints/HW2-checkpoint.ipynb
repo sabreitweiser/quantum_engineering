{
 "cells": [
  {
   "cell_type": "markdown",
   "metadata": {},
   "source": [
    "# ESE 523: QuTiP Demo for Homework 1"
   ]
  },
  {
   "cell_type": "code",
   "execution_count": 1,
   "metadata": {
    "collapsed": true
   },
   "outputs": [],
   "source": [
    "# Settings and packages\n",
    "%matplotlib inline \n",
    "import matplotlib.pyplot as plt # package for plotting\n",
    "import numpy as np # package for numerical analyis"
   ]
  },
  {
   "cell_type": "code",
   "execution_count": 2,
   "metadata": {
    "collapsed": true
   },
   "outputs": [],
   "source": [
    "# Import qutip package\n",
    "from qutip import *"
   ]
  },
  {
   "cell_type": "markdown",
   "metadata": {},
   "source": [
    "# Expectation Values"
   ]
  },
  {
   "cell_type": "markdown",
   "metadata": {},
   "source": [
    "Define the basis states as in problem 1(a):"
   ]
  },
  {
   "cell_type": "code",
   "execution_count": 3,
   "metadata": {},
   "outputs": [],
   "source": [
    "N=2 # Dimension of Hilbert space\n",
    "\n",
    "up = basis(N,0)  # sigma_z eigenstate |up>=(1,0)\n",
    "dn = basis(N,1)  # sigma_z eigenstate |dn>=(0,1)\n",
    "\n",
    "psi1 = up \n",
    "psi2 = (up+dn)/np.sqrt(2)# note he sqrt() function is part of the numpy package\n",
    "psi3 = (up+1j*dn).unit() # alternatively, we can use the qutip unit() function to normalize the state"
   ]
  },
  {
   "cell_type": "code",
   "execution_count": null,
   "metadata": {},
   "outputs": [],
   "source": []
  },
  {
   "cell_type": "code",
   "execution_count": 4,
   "metadata": {},
   "outputs": [
    {
     "ename": "NameError",
     "evalue": "name 'pi' is not defined",
     "output_type": "error",
     "traceback": [
      "\u001b[0;31m---------------------------------------------------------------------------\u001b[0m",
      "\u001b[0;31mNameError\u001b[0m                                 Traceback (most recent call last)",
      "\u001b[0;32m<ipython-input-4-65522a0f3dcb>\u001b[0m in \u001b[0;36m<module>\u001b[0;34m()\u001b[0m\n\u001b[0;32m----> 1\u001b[0;31m \u001b[0mtlist\u001b[0m \u001b[0;34m=\u001b[0m \u001b[0mnp\u001b[0m\u001b[0;34m.\u001b[0m\u001b[0mlinspace\u001b[0m\u001b[0;34m(\u001b[0m\u001b[0;36m0.0\u001b[0m\u001b[0;34m,\u001b[0m\u001b[0mpi\u001b[0m\u001b[0;34m/\u001b[0m\u001b[0;36m2\u001b[0m\u001b[0;34m,\u001b[0m\u001b[0;36m100\u001b[0m\u001b[0;34m)\u001b[0m \u001b[0;31m# list of 100 times to calculate (units are nanoseconds, since H is in GHz)\u001b[0m\u001b[0;34m\u001b[0m\u001b[0m\n\u001b[0m\u001b[1;32m      2\u001b[0m \u001b[0mpsi_init\u001b[0m \u001b[0;34m=\u001b[0m \u001b[0mpsi1\u001b[0m\u001b[0;34m\u001b[0m\u001b[0m\n\u001b[1;32m      3\u001b[0m \u001b[0;34m\u001b[0m\u001b[0m\n\u001b[1;32m      4\u001b[0m \u001b[0mresult1\u001b[0m \u001b[0;34m=\u001b[0m \u001b[0mmesolve\u001b[0m\u001b[0;34m(\u001b[0m\u001b[0mH\u001b[0m\u001b[0;34m,\u001b[0m\u001b[0mpsi1\u001b[0m\u001b[0;34m,\u001b[0m\u001b[0mtlist\u001b[0m\u001b[0;34m,\u001b[0m\u001b[0;34m[\u001b[0m\u001b[0;34m]\u001b[0m\u001b[0;34m,\u001b[0m\u001b[0;34m[\u001b[0m\u001b[0msigmax\u001b[0m\u001b[0;34m(\u001b[0m\u001b[0;34m)\u001b[0m\u001b[0;34m,\u001b[0m\u001b[0msigmay\u001b[0m\u001b[0;34m(\u001b[0m\u001b[0;34m)\u001b[0m\u001b[0;34m,\u001b[0m\u001b[0msigmaz\u001b[0m\u001b[0;34m(\u001b[0m\u001b[0;34m)\u001b[0m\u001b[0;34m]\u001b[0m\u001b[0;34m)\u001b[0m\u001b[0;34m\u001b[0m\u001b[0m\n\u001b[1;32m      5\u001b[0m \u001b[0mresult2\u001b[0m \u001b[0;34m=\u001b[0m \u001b[0mmesolve\u001b[0m\u001b[0;34m(\u001b[0m\u001b[0mH\u001b[0m\u001b[0;34m,\u001b[0m\u001b[0mpsi2\u001b[0m\u001b[0;34m,\u001b[0m\u001b[0mtlist\u001b[0m\u001b[0;34m,\u001b[0m\u001b[0;34m[\u001b[0m\u001b[0;34m]\u001b[0m\u001b[0;34m,\u001b[0m\u001b[0;34m[\u001b[0m\u001b[0msigmax\u001b[0m\u001b[0;34m(\u001b[0m\u001b[0;34m)\u001b[0m\u001b[0;34m,\u001b[0m\u001b[0msigmay\u001b[0m\u001b[0;34m(\u001b[0m\u001b[0;34m)\u001b[0m\u001b[0;34m,\u001b[0m\u001b[0msigmaz\u001b[0m\u001b[0;34m(\u001b[0m\u001b[0;34m)\u001b[0m\u001b[0;34m]\u001b[0m\u001b[0;34m)\u001b[0m\u001b[0;34m\u001b[0m\u001b[0m\n",
      "\u001b[0;31mNameError\u001b[0m: name 'pi' is not defined"
     ]
    }
   ],
   "source": [
    "tlist = np.linspace(0.0,pi/2,100) # list of 100 times to calculate (units are nanoseconds, since H is in GHz)\n",
    "psi_init = psi1\n",
    "\n",
    "result1 = mesolve(H,psi1,tlist,[],[sigmax(),sigmay(),sigmaz()])\n",
    "result2 = mesolve(H,psi2,tlist,[],[sigmax(),sigmay(),sigmaz()])\n",
    "result3 = mesolve(H,psi3,tlist,[],[sigmax(),sigmay(),sigmaz()])\n",
    "result4 = mesolve(H,psi4,tlist,[],[sigmax(),sigmay(),sigmaz()])"
   ]
  },
  {
   "cell_type": "markdown",
   "metadata": {},
   "source": [
    "## Plot the results"
   ]
  },
  {
   "cell_type": "markdown",
   "metadata": {},
   "source": [
    "The code below uses the matplotlib plotting package.  You can get find help and demos for creating different types of plots by navigating to Help/Matplotlib at the top of the page."
   ]
  },
  {
   "cell_type": "code",
   "execution_count": null,
   "metadata": {},
   "outputs": [],
   "source": [
    "result_to_plot = result1 # Choose one of the completed simulations\n",
    "\n",
    "def show_plot(result_to_plot):\n",
    "    fig, ax = plt.subplots()\n",
    "    ax.plot(result_to_plot.times,result_to_plot.expect[0])\n",
    "    ax.plot(result_to_plot.times,result_to_plot.expect[1])\n",
    "    ax.plot(result_to_plot.times,result_to_plot.expect[2])\n",
    "    ax.set_xlabel('Time (ns)')\n",
    "    ax.set_ylabel('Expectation value')\n",
    "    ax.legend((\"X\",\"Y\",\"Z\"));\n",
    "    plt.show()\n",
    "show_plot(result_to_plot)"
   ]
  },
  {
   "cell_type": "markdown",
   "metadata": {},
   "source": [
    "You can also plot these dynamics on the Bloch sphere using QuTiP's bloch() function:"
   ]
  },
  {
   "cell_type": "code",
   "execution_count": null,
   "metadata": {},
   "outputs": [],
   "source": [
    "def show_bloch(result_to_plot):\n",
    "    sphere = Bloch()\n",
    "    sphere.add_vectors([1,0,0]) # Add a vector showing the B-field direction\n",
    "    sphere.add_points(result_to_plot.expect,meth='l') # Draw the calculated spin projections as a line trajectory\n",
    "    sphere.show()\n",
    "show_bloch(result_to_plot)"
   ]
  }
 ],
 "metadata": {
  "kernelspec": {
   "display_name": "Python 3",
   "language": "python",
   "name": "python3"
  },
  "language_info": {
   "codemirror_mode": {
    "name": "ipython",
    "version": 3
   },
   "file_extension": ".py",
   "mimetype": "text/x-python",
   "name": "python",
   "nbconvert_exporter": "python",
   "pygments_lexer": "ipython3",
   "version": "3.6.1"
  }
 },
 "nbformat": 4,
 "nbformat_minor": 1
}
