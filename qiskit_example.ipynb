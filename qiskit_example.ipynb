{
 "cells": [
  {
   "cell_type": "markdown",
   "metadata": {},
   "source": [
    "# QISKIT Example\n",
    "This is the same QuTiP example worked out in IBM's QISKIT, it follows closely David's QuTiP demo as well as the tutorials laid out in https://github.com/QISKit/qiskit-tutorial"
   ]
  },
  {
   "cell_type": "markdown",
   "metadata": {},
   "source": [
    "## Setting up"
   ]
  },
  {
   "cell_type": "code",
   "execution_count": 86,
   "metadata": {
    "collapsed": true
   },
   "outputs": [],
   "source": [
    "# Checking the version of PYTHON\n",
    "import sys\n",
    "if sys.version_info < (3,0):\n",
    "    raise Exception('Please use Python version 3 or greater.')\n",
    "    \n",
    "# useful additional packages \n",
    "import matplotlib.pyplot as plt\n",
    "#%matplotlib inline\n",
    "import numpy as np\n",
    "\n",
    "# Optional - point to the folder which contains your QConfig file\n",
    "#import sys\n",
    "#sys.path.append('/Users/sabreitweiser/qiskit-sdk-py/')\n",
    "\n",
    "# importing the QISKit\n",
    "from qiskit import QuantumCircuit, QuantumProgram\n",
    "import Qconfig\n",
    "\n",
    "# import basic plot tools\n",
    "from qiskit.tools.visualization import plot_histogram\n",
    "\n",
    "#backend = 'ibmqx4' # the backend to run on\n",
    "shots = 1024   # the number of shots in the experiment. \n",
    "backend = 'local_qasm_simulator' # the backend for testing\n",
    "\n",
    "QPS_SPECS = {\n",
    "    'circuits': [{\n",
    "        'name': 'measure',\n",
    "        'quantum_registers': [{\n",
    "            'name':'q',\n",
    "            'size':1\n",
    "        }],\n",
    "        'classical_registers': [{\n",
    "            'name':'c',\n",
    "            'size':1\n",
    "        }]}],\n",
    "}\n",
    "\n",
    "Q_program = QuantumProgram(specs=QPS_SPECS)\n",
    "Q_program.set_api(Qconfig.APItoken, Qconfig.config['url'])"
   ]
  },
  {
   "cell_type": "markdown",
   "metadata": {},
   "source": [
    "## Expectation values\n",
    "This is just a one-qubit circuit!"
   ]
  },
  {
   "cell_type": "code",
   "execution_count": 87,
   "metadata": {},
   "outputs": [],
   "source": [
    "q = Q_program.get_quantum_register('q')\n",
    "c = Q_program.get_classical_register('c')\n",
    "\n",
    "# quantum circuit to produce the X state\n",
    "prepX = Q_program.create_circuit('prepX', [q], [c])\n",
    "prepX.h(q[0])\n",
    "\n",
    "# quantum circuit to measure q in Z basis \n",
    "measureZ = Q_program.create_circuit('measureZ', [q], [c])\n",
    "measureZ.measure(q[0], c[0])\n",
    "\n",
    "# quantum circuit to measure q in X basis \n",
    "measureX = Q_program.create_circuit('measureX', [q], [c])\n",
    "measureX.h(q[0])\n",
    "measureX.measure(q[0], c[0])\n",
    "\n",
    "# quantum circuit to measure q in Y basis \n",
    "measureY = Q_program.create_circuit('measureY', [q], [c])\n",
    "measureY.s(q[0]).inverse()\n",
    "measureY.h(q[0])\n",
    "measureY.measure(q[0], c[0])\n",
    "\n",
    "Q_program.add_circuit('expX', prepX + measureX )\n",
    "Q_program.add_circuit('expY', prepX + measureY )\n",
    "Q_program.add_circuit('expZ', prepX + measureZ )\n",
    "\n",
    "circuits = ['expX', 'expY', 'expZ']\n",
    "Q_program.get_qasms(circuits)\n",
    "result = Q_program.execute(circuits, backend=backend, shots=shots, max_credits=3, wait=10, timeout=240)"
   ]
  },
  {
   "cell_type": "code",
   "execution_count": 88,
   "metadata": {},
   "outputs": [
    {
     "data": {
      "text/plain": [
       "'COMPLETED'"
      ]
     },
     "execution_count": 88,
     "metadata": {},
     "output_type": "execute_result"
    }
   ],
   "source": [
    "result.get_status()"
   ]
  },
  {
   "cell_type": "code",
   "execution_count": 89,
   "metadata": {},
   "outputs": [
    {
     "data": {
      "text/plain": [
       "(1.0, 0.0234375, -0.013671875)"
      ]
     },
     "execution_count": 89,
     "metadata": {},
     "output_type": "execute_result"
    }
   ],
   "source": [
    "def expect(result, circuit):\n",
    "    #returns the expectation value given the results of a 1 bit measurement\n",
    "    #assumes the eigenvalues are +1 for |0> and -1 for |1>\n",
    "    counts = result.get_counts(circuit)\n",
    "    p = counts.get('0', 0)\n",
    "    m = counts.get('1', 0)\n",
    "    return (p - m) / shots\n",
    "\n",
    "x = expect(result, 'expX')\n",
    "y = expect(result, 'expY')\n",
    "z = expect(result, 'expZ')\n",
    "\n",
    "\n",
    "(x,y,z)"
   ]
  },
  {
   "cell_type": "markdown",
   "metadata": {},
   "source": [
    "## Spin Hamiltonian\n",
    "\n",
    "Note that, due to limitations on measurement, we need to redo the experiment for every time step"
   ]
  },
  {
   "cell_type": "code",
   "execution_count": 90,
   "metadata": {},
   "outputs": [],
   "source": [
    "H = 0.28 # the splitting, in GHz\n",
    "t = 0.5 # time step, in ns\n",
    "steps = 50 #number of steps to take\n",
    "\n",
    "# quantum circuit to produce the Z state\n",
    "prepZ = Q_program.create_circuit('prepZ', [q], [c])\n",
    "#NB: Don't actually need to do anything here\n",
    "\n",
    "evolve = Q_program.create_circuit('evolve', [q], [c])\n",
    "evolve.rx(H*t, q[0]) #Rotate around the x axis by H*t\n",
    "\n",
    "circuits = []\n",
    "for i in range(steps):\n",
    "    prep_and_evolve = prepZ\n",
    "    for j in range(i):\n",
    "        prep_and_evolve = prep_and_evolve + evolve\n",
    "    \n",
    "    expX = prep_and_evolve + measureX\n",
    "    expY = prep_and_evolve + measureY\n",
    "    expZ = prep_and_evolve + measureZ\n",
    "    \n",
    "    Q_program.add_circuit('expX' + str(i), expX )\n",
    "    Q_program.add_circuit('expY' + str(i), expY )\n",
    "    Q_program.add_circuit('expZ' + str(i), expZ )\n",
    "    \n",
    "    circuits.append('expX' + str(i))\n",
    "    circuits.append('expY' + str(i))\n",
    "    circuits.append('expZ' + str(i))\n",
    "\n",
    "Q_program.get_qasms(circuits)\n",
    "result = Q_program.execute(circuits, backend=backend, shots=shots, max_credits=3, wait=10, timeout=240)"
   ]
  },
  {
   "cell_type": "code",
   "execution_count": 91,
   "metadata": {},
   "outputs": [
    {
     "data": {
      "text/plain": [
       "'COMPLETED'"
      ]
     },
     "execution_count": 91,
     "metadata": {},
     "output_type": "execute_result"
    }
   ],
   "source": [
    "result.get_status()"
   ]
  },
  {
   "cell_type": "code",
   "execution_count": 92,
   "metadata": {},
   "outputs": [
    {
     "data": {
      "image/png": "[encoded data removed]",
      "text/plain": [
       "<matplotlib.figure.Figure at 0x11bf62748>"
      ]
     },
     "metadata": {},
     "output_type": "display_data"
    }
   ],
   "source": [
    "x = []\n",
    "y = []\n",
    "z = []\n",
    "\n",
    "for i in range(steps):\n",
    "    x.append(expect(result, 'expX' + str(i)))\n",
    "    y.append(expect(result, 'expY' + str(i)))\n",
    "    z.append(expect(result, 'expZ' + str(i)))\n",
    "    \n",
    "time = t*np.array(range(steps))\n",
    "plt.plot(time,x)\n",
    "plt.plot(time,y)\n",
    "plt.plot(time,z)\n",
    "plt.show()"
   ]
  }
 ],
 "metadata": {
  "kernelspec": {
   "display_name": "Python 3",
   "language": "python",
   "name": "python3"
  },
  "language_info": {
   "codemirror_mode": {
    "name": "ipython",
    "version": 3
   },
   "file_extension": ".py",
   "mimetype": "text/x-python",
   "name": "python",
   "nbconvert_exporter": "python",
   "pygments_lexer": "ipython3",
   "version": "3.6.1"
  }
 },
 "nbformat": 4,
 "nbformat_minor": 2
}
