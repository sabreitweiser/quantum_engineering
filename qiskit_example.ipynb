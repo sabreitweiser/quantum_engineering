{
 "cells": [
  {
   "cell_type": "code",
   "execution_count": 1,
   "metadata": {
    "collapsed": true
   },
   "outputs": [],
   "source": [
    "# Checking the version of PYTHON\n",
    "import sys\n",
    "if sys.version_info < (3,0):\n",
    "    raise Exception('Please use Python version 3 or greater.')\n",
    "    \n",
    "# useful additional packages \n",
    "import matplotlib.pyplot as plt\n",
    "#%matplotlib inline\n",
    "import numpy as np\n",
    "\n",
    "\n",
    "import sys\n",
    "sys.path.append('/Users/sabreitweiser/qiskit-sdk-py/') #Change to point to your qiskit root\n",
    "\n",
    "# importing the QISKit\n",
    "from qiskit import QuantumCircuit, QuantumProgram\n",
    "import Qconfig\n",
    "\n",
    "# import basic plot tools\n",
    "from qiskit.tools.visualization import plot_histogram"
   ]
  }
 ],
 "metadata": {
  "kernelspec": {
   "display_name": "Python 3",
   "language": "python",
   "name": "python3"
  },
  "language_info": {
   "codemirror_mode": {
    "name": "ipython",
    "version": 3
   },
   "file_extension": ".py",
   "mimetype": "text/x-python",
   "name": "python",
   "nbconvert_exporter": "python",
   "pygments_lexer": "ipython3",
   "version": "3.6.1"
  }
 },
 "nbformat": 4,
 "nbformat_minor": 2
}
